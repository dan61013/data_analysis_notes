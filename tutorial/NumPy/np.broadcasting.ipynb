{
 "cells": [
  {
   "cell_type": "markdown",
   "id": "b383e5f2",
   "metadata": {},
   "source": [
    "# Broadcasting\n",
    "\n",
    "> Broadcasting is simply a set of rules for applying binary ufunctions on array of different sizes."
   ]
  },
  {
   "cell_type": "code",
   "execution_count": 1,
   "id": "9b50bdb6",
   "metadata": {},
   "outputs": [],
   "source": [
    "import numpy as np"
   ]
  },
  {
   "cell_type": "code",
   "execution_count": 2,
   "id": "08a1cb61",
   "metadata": {},
   "outputs": [
    {
     "data": {
      "text/plain": [
       "(array([5, 8, 5], dtype=int32), array([0, 0, 1], dtype=int32))"
      ]
     },
     "execution_count": 2,
     "metadata": {},
     "output_type": "execute_result"
    }
   ],
   "source": [
    "np.random.seed(1)\n",
    "a = np.random.randint(0, 9, 3)\n",
    "b = np.random.randint(0, 9, 3)\n",
    "a, b"
   ]
  },
  {
   "cell_type": "code",
   "execution_count": 3,
   "id": "c5afee3e",
   "metadata": {},
   "outputs": [
    {
     "data": {
      "text/plain": [
       "array([5, 8, 6], dtype=int32)"
      ]
     },
     "execution_count": 3,
     "metadata": {},
     "output_type": "execute_result"
    }
   ],
   "source": [
    "a + b  # 直接將2個array相加"
   ]
  },
  {
   "cell_type": "code",
   "execution_count": 4,
   "id": "9554171a",
   "metadata": {},
   "outputs": [
    {
     "data": {
      "text/plain": [
       "array([10, 13, 10], dtype=int32)"
      ]
     },
     "execution_count": 4,
     "metadata": {},
     "output_type": "execute_result"
    }
   ],
   "source": [
    "# 可以跟一個純量相加\n",
    "a + 5"
   ]
  },
  {
   "cell_type": "code",
   "execution_count": 5,
   "id": "c3721528",
   "metadata": {},
   "outputs": [
    {
     "data": {
      "text/plain": [
       "array([[1., 1., 1.],\n",
       "       [1., 1., 1.],\n",
       "       [1., 1., 1.]])"
      ]
     },
     "execution_count": 5,
     "metadata": {},
     "output_type": "execute_result"
    }
   ],
   "source": [
    "arr = np.ones((3, 3))\n",
    "arr"
   ]
  },
  {
   "cell_type": "code",
   "execution_count": 6,
   "id": "c13633c1",
   "metadata": {},
   "outputs": [
    {
     "data": {
      "text/plain": [
       "array([[6., 9., 6.],\n",
       "       [6., 9., 6.],\n",
       "       [6., 9., 6.]])"
      ]
     },
     "execution_count": 6,
     "metadata": {},
     "output_type": "execute_result"
    }
   ],
   "source": [
    "arr + a  # 同一個Size可以相加"
   ]
  },
  {
   "cell_type": "code",
   "execution_count": 7,
   "id": "ec3f7d69",
   "metadata": {},
   "outputs": [
    {
     "name": "stdout",
     "output_type": "stream",
     "text": [
      "[0 1 2]\n",
      "[[0]\n",
      " [1]\n",
      " [2]]\n"
     ]
    }
   ],
   "source": [
    "a = np.arange(3)\n",
    "b = np.arange(3)[:, np.newaxis]\n",
    "print(a)\n",
    "print(b)"
   ]
  },
  {
   "cell_type": "code",
   "execution_count": 8,
   "id": "e3b7173e",
   "metadata": {},
   "outputs": [
    {
     "data": {
      "text/plain": [
       "array([[0],\n",
       "       [1],\n",
       "       [2]])"
      ]
     },
     "execution_count": 8,
     "metadata": {},
     "output_type": "execute_result"
    }
   ],
   "source": [
    "c = np.arange(3)[:, None]  # 也可以寫成這樣，但用None的可閱性較低\n",
    "c"
   ]
  },
  {
   "cell_type": "code",
   "execution_count": 9,
   "id": "46450a53",
   "metadata": {},
   "outputs": [
    {
     "data": {
      "text/plain": [
       "array([[0, 1, 2],\n",
       "       [1, 2, 3],\n",
       "       [2, 3, 4]])"
      ]
     },
     "execution_count": 9,
     "metadata": {},
     "output_type": "execute_result"
    }
   ],
   "source": [
    "a + b"
   ]
  },
  {
   "cell_type": "markdown",
   "id": "9bdfdce9",
   "metadata": {},
   "source": [
    "※ 可以理解成`[0, 1, 2]`的row * column"
   ]
  },
  {
   "cell_type": "code",
   "execution_count": 10,
   "id": "a9c183bf",
   "metadata": {},
   "outputs": [
    {
     "data": {
      "text/plain": [
       "(array([[1., 1., 1.],\n",
       "        [1., 1., 1.]]),\n",
       " array([0, 1, 2]))"
      ]
     },
     "execution_count": 10,
     "metadata": {},
     "output_type": "execute_result"
    }
   ],
   "source": [
    "arr = np.ones((2, 3))\n",
    "a = np.arange(3)\n",
    "arr, a"
   ]
  },
  {
   "cell_type": "code",
   "execution_count": 11,
   "id": "1d16314f",
   "metadata": {},
   "outputs": [
    {
     "data": {
      "text/plain": [
       "((2, 3), (3,))"
      ]
     },
     "execution_count": 11,
     "metadata": {},
     "output_type": "execute_result"
    }
   ],
   "source": [
    "arr.shape, a.shape"
   ]
  },
  {
   "cell_type": "code",
   "execution_count": 12,
   "id": "47fe3e80",
   "metadata": {},
   "outputs": [
    {
     "data": {
      "text/plain": [
       "array([[1., 2., 3.],\n",
       "       [1., 2., 3.]])"
      ]
     },
     "execution_count": 12,
     "metadata": {},
     "output_type": "execute_result"
    }
   ],
   "source": [
    "arr + a"
   ]
  },
  {
   "cell_type": "code",
   "execution_count": 13,
   "id": "e619a183",
   "metadata": {},
   "outputs": [
    {
     "data": {
      "text/plain": [
       "(array([[0],\n",
       "        [1],\n",
       "        [2]]),\n",
       " array([0, 1, 2]))"
      ]
     },
     "execution_count": 13,
     "metadata": {},
     "output_type": "execute_result"
    }
   ],
   "source": [
    "a = np.arange(3).reshape((3, 1))\n",
    "b = np.arange(3)\n",
    "a, b"
   ]
  },
  {
   "cell_type": "code",
   "execution_count": 14,
   "id": "13e0b0e9",
   "metadata": {},
   "outputs": [
    {
     "data": {
      "text/plain": [
       "array([[0, 1, 2],\n",
       "       [1, 2, 3],\n",
       "       [2, 3, 4]])"
      ]
     },
     "execution_count": 14,
     "metadata": {},
     "output_type": "execute_result"
    }
   ],
   "source": [
    "a + b"
   ]
  },
  {
   "cell_type": "markdown",
   "id": "4a0bf5af",
   "metadata": {},
   "source": [
    "## 擴展維度"
   ]
  },
  {
   "cell_type": "code",
   "execution_count": 15,
   "id": "f498c47b",
   "metadata": {},
   "outputs": [
    {
     "data": {
      "text/plain": [
       "(array([[1., 1.],\n",
       "        [1., 1.],\n",
       "        [1., 1.]]),\n",
       " array([0, 1, 2]))"
      ]
     },
     "execution_count": 15,
     "metadata": {},
     "output_type": "execute_result"
    }
   ],
   "source": [
    "arr = np.ones((3, 2))\n",
    "a = np.arange(3)\n",
    "arr, a"
   ]
  },
  {
   "cell_type": "code",
   "execution_count": 16,
   "id": "75d26156",
   "metadata": {},
   "outputs": [
    {
     "ename": "ValueError",
     "evalue": "operands could not be broadcast together with shapes (3,2) (3,) ",
     "output_type": "error",
     "traceback": [
      "\u001b[1;31m---------------------------------------------------------------------------\u001b[0m",
      "\u001b[1;31mValueError\u001b[0m                                Traceback (most recent call last)",
      "Cell \u001b[1;32mIn[16], line 1\u001b[0m\n\u001b[1;32m----> 1\u001b[0m \u001b[43marr\u001b[49m\u001b[43m \u001b[49m\u001b[38;5;241;43m+\u001b[39;49m\u001b[43m \u001b[49m\u001b[43ma\u001b[49m\n",
      "\u001b[1;31mValueError\u001b[0m: operands could not be broadcast together with shapes (3,2) (3,) "
     ]
    }
   ],
   "source": [
    "arr + a"
   ]
  },
  {
   "cell_type": "code",
   "execution_count": 17,
   "id": "0e9fcfa7",
   "metadata": {},
   "outputs": [
    {
     "data": {
      "text/plain": [
       "array([[1., 1.],\n",
       "       [2., 2.],\n",
       "       [3., 3.]])"
      ]
     },
     "execution_count": 17,
     "metadata": {},
     "output_type": "execute_result"
    }
   ],
   "source": [
    "arr + a[:, np.newaxis]  # 透過np.newaxis擴展維度"
   ]
  },
  {
   "cell_type": "code",
   "execution_count": 18,
   "id": "47099594",
   "metadata": {},
   "outputs": [
    {
     "data": {
      "text/plain": [
       "(array([[0],\n",
       "        [1],\n",
       "        [2]]),\n",
       " (3, 1),\n",
       " (3, 2))"
      ]
     },
     "execution_count": 18,
     "metadata": {},
     "output_type": "execute_result"
    }
   ],
   "source": [
    "a[:, np.newaxis], a[:, np.newaxis].shape, arr.shape"
   ]
  },
  {
   "cell_type": "markdown",
   "id": "3064da4b",
   "metadata": {},
   "source": [
    "## Centering an Array\n",
    "\n",
    "> Data Centering, Mean Removed\n",
    "\n",
    "主要目的:\n",
    "\n",
    "1. 改善機器學習的模型性能: 很多演算法，包含PCA, SVM，以及使用梯度下降優化法在處理Mean為0的數據時，表現會較佳，收斂速度也較快。\n",
    "2. 主成分分析(PCA)的前提: 因為PCA的目標是找到數據方差(Variance)最大的方向。"
   ]
  },
  {
   "cell_type": "code",
   "execution_count": 19,
   "id": "71154b82",
   "metadata": {},
   "outputs": [
    {
     "data": {
      "text/plain": [
       "array([[0.18626021, 0.34556073, 0.39676747],\n",
       "       [0.53881673, 0.41919451, 0.6852195 ],\n",
       "       [0.20445225, 0.87811744, 0.02738759],\n",
       "       [0.67046751, 0.4173048 , 0.55868983],\n",
       "       [0.14038694, 0.19810149, 0.80074457],\n",
       "       [0.96826158, 0.31342418, 0.69232262],\n",
       "       [0.87638915, 0.89460666, 0.08504421],\n",
       "       [0.03905478, 0.16983042, 0.8781425 ],\n",
       "       [0.09834683, 0.42110763, 0.95788953],\n",
       "       [0.53316528, 0.69187711, 0.31551563]])"
      ]
     },
     "execution_count": 19,
     "metadata": {},
     "output_type": "execute_result"
    }
   ],
   "source": [
    "arr = np.random.random((10 ,3))\n",
    "arr"
   ]
  },
  {
   "cell_type": "code",
   "execution_count": 20,
   "id": "723e02e4",
   "metadata": {},
   "outputs": [
    {
     "data": {
      "text/plain": [
       "array([0.42556013, 0.4749125 , 0.53977235])"
      ]
     },
     "execution_count": 20,
     "metadata": {},
     "output_type": "execute_result"
    }
   ],
   "source": [
    "arr_mean = arr.mean(axis=0)\n",
    "arr_mean"
   ]
  },
  {
   "cell_type": "code",
   "execution_count": 21,
   "id": "d31a1570",
   "metadata": {},
   "outputs": [
    {
     "data": {
      "text/plain": [
       "array([-2.22044605e-17,  8.88178420e-17,  3.33066907e-17])"
      ]
     },
     "execution_count": 21,
     "metadata": {},
     "output_type": "execute_result"
    }
   ],
   "source": [
    "arr_centered = arr - arr_mean\n",
    "arr_centered.mean(axis=0)"
   ]
  },
  {
   "cell_type": "markdown",
   "id": "7a612034",
   "metadata": {},
   "source": [
    "## 繪製 Two-Dimensional Function"
   ]
  },
  {
   "cell_type": "code",
   "execution_count": 22,
   "id": "0c658d61",
   "metadata": {},
   "outputs": [
    {
     "data": {
      "text/plain": [
       "(array([0.        , 0.10204082, 0.20408163, 0.30612245, 0.40816327,\n",
       "        0.51020408, 0.6122449 , 0.71428571, 0.81632653, 0.91836735,\n",
       "        1.02040816, 1.12244898, 1.2244898 , 1.32653061, 1.42857143,\n",
       "        1.53061224, 1.63265306, 1.73469388, 1.83673469, 1.93877551,\n",
       "        2.04081633, 2.14285714, 2.24489796, 2.34693878, 2.44897959,\n",
       "        2.55102041, 2.65306122, 2.75510204, 2.85714286, 2.95918367,\n",
       "        3.06122449, 3.16326531, 3.26530612, 3.36734694, 3.46938776,\n",
       "        3.57142857, 3.67346939, 3.7755102 , 3.87755102, 3.97959184,\n",
       "        4.08163265, 4.18367347, 4.28571429, 4.3877551 , 4.48979592,\n",
       "        4.59183673, 4.69387755, 4.79591837, 4.89795918, 5.        ]),\n",
       " array([[0.        ],\n",
       "        [0.10204082],\n",
       "        [0.20408163],\n",
       "        [0.30612245],\n",
       "        [0.40816327],\n",
       "        [0.51020408],\n",
       "        [0.6122449 ],\n",
       "        [0.71428571],\n",
       "        [0.81632653],\n",
       "        [0.91836735],\n",
       "        [1.02040816],\n",
       "        [1.12244898],\n",
       "        [1.2244898 ],\n",
       "        [1.32653061],\n",
       "        [1.42857143],\n",
       "        [1.53061224],\n",
       "        [1.63265306],\n",
       "        [1.73469388],\n",
       "        [1.83673469],\n",
       "        [1.93877551],\n",
       "        [2.04081633],\n",
       "        [2.14285714],\n",
       "        [2.24489796],\n",
       "        [2.34693878],\n",
       "        [2.44897959],\n",
       "        [2.55102041],\n",
       "        [2.65306122],\n",
       "        [2.75510204],\n",
       "        [2.85714286],\n",
       "        [2.95918367],\n",
       "        [3.06122449],\n",
       "        [3.16326531],\n",
       "        [3.26530612],\n",
       "        [3.36734694],\n",
       "        [3.46938776],\n",
       "        [3.57142857],\n",
       "        [3.67346939],\n",
       "        [3.7755102 ],\n",
       "        [3.87755102],\n",
       "        [3.97959184],\n",
       "        [4.08163265],\n",
       "        [4.18367347],\n",
       "        [4.28571429],\n",
       "        [4.3877551 ],\n",
       "        [4.48979592],\n",
       "        [4.59183673],\n",
       "        [4.69387755],\n",
       "        [4.79591837],\n",
       "        [4.89795918],\n",
       "        [5.        ]]),\n",
       " array([[-0.83907153, -0.83470697, -0.8216586 , ...,  0.8956708 ,\n",
       "          0.68617261,  0.41940746],\n",
       "        [-0.83907153, -0.82902677, -0.8103873 , ...,  0.92522407,\n",
       "          0.75321348,  0.52508175],\n",
       "        [-0.83907153, -0.82325668, -0.79876457, ...,  0.96427357,\n",
       "          0.84172689,  0.66446403],\n",
       "        ...,\n",
       "        [-0.83907153, -0.48233077, -0.01646558, ...,  0.96449925,\n",
       "          0.75196531,  0.41982581],\n",
       "        [-0.83907153, -0.47324558,  0.00392612, ...,  0.92542163,\n",
       "          0.68540362,  0.37440839],\n",
       "        [-0.83907153, -0.46410908,  0.02431613, ...,  0.89579384,\n",
       "          0.65690314,  0.40107702]]))"
      ]
     },
     "execution_count": 22,
     "metadata": {},
     "output_type": "execute_result"
    }
   ],
   "source": [
    "x = np.linspace(0, 5, 50)\n",
    "y = np.linspace(0, 5, 50)[:, np.newaxis]\n",
    "z = np.sin(x) ** 10 + np.cos(10 + y * x) * np.cos(x)\n",
    "x, y, z"
   ]
  },
  {
   "cell_type": "code",
   "execution_count": 23,
   "id": "8fd81e25",
   "metadata": {},
   "outputs": [],
   "source": [
    "%matplotlib inline\n",
    "import matplotlib.pyplot as plt"
   ]
  },
  {
   "cell_type": "code",
   "execution_count": 24,
   "id": "cf251591",
   "metadata": {},
   "outputs": [
    {
     "data": {
      "text/plain": [
       "<matplotlib.colorbar.Colorbar at 0x16bc0662890>"
      ]
     },
     "execution_count": 24,
     "metadata": {},
     "output_type": "execute_result"
    },
    {
     "data": {
      "image/png": "[encoded data removed]",
      "text/plain": [
       "<Figure size 640x480 with 2 Axes>"
      ]
     },
     "metadata": {},
     "output_type": "display_data"
    }
   ],
   "source": [
    "plt.style.use('Solarize_Light2')\n",
    "plt.imshow(\n",
    "    z,\n",
    "    origin='lower',\n",
    "    extent=[0, 5, 0, 5],\n",
    "    cmap='summer'\n",
    ")\n",
    "plt.colorbar()"
   ]
  }
 ],
 "metadata": {
  "kernelspec": {
   "display_name": "da01_ydata",
   "language": "python",
   "name": "python3"
  },
  "language_info": {
   "codemirror_mode": {
    "name": "ipython",
    "version": 3
   },
   "file_extension": ".py",
   "mimetype": "text/x-python",
   "name": "python",
   "nbconvert_exporter": "python",
   "pygments_lexer": "ipython3",
   "version": "3.10.18"
  }
 },
 "nbformat": 4,
 "nbformat_minor": 5
}
