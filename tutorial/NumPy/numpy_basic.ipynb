{
 "cells": [
  {
   "cell_type": "code",
   "execution_count": 1,
   "id": "b53d96ac",
   "metadata": {},
   "outputs": [],
   "source": [
    "import numpy as np"
   ]
  },
  {
   "cell_type": "code",
   "execution_count": 2,
   "id": "b06093f8",
   "metadata": {},
   "outputs": [
    {
     "data": {
      "text/plain": [
       "'2.2.2'"
      ]
     },
     "execution_count": 2,
     "metadata": {},
     "output_type": "execute_result"
    }
   ],
   "source": [
    "np.__version__"
   ]
  },
  {
   "cell_type": "markdown",
   "id": "fbab2bdd",
   "metadata": {},
   "source": [
    "Python原生的List儲存不同data type(實際List中的每一個element都是一個Python object指向一個C struct，且每個元素都帶有自己的資訊，refcnt, type, size, digit等)"
   ]
  },
  {
   "cell_type": "code",
   "execution_count": 3,
   "id": "5df4b79d",
   "metadata": {},
   "outputs": [
    {
     "data": {
      "text/plain": [
       "[bool, float, int, str]"
      ]
     },
     "execution_count": 3,
     "metadata": {},
     "output_type": "execute_result"
    }
   ],
   "source": [
    "L1 = [True, 3.14, 5, \"Algorithm\"]\n",
    "[type(i) for i in L1]"
   ]
  },
  {
   "cell_type": "markdown",
   "id": "30c47534",
   "metadata": {},
   "source": [
    "# Array"
   ]
  },
  {
   "cell_type": "code",
   "execution_count": 4,
   "id": "36e22a28",
   "metadata": {},
   "outputs": [
    {
     "data": {
      "text/plain": [
       "array('i', [0, 1, 2, 3, 4, 5, 6, 7, 8, 9])"
      ]
     },
     "execution_count": 4,
     "metadata": {},
     "output_type": "execute_result"
    }
   ],
   "source": [
    "import array\n",
    "\n",
    "lst = list(range(10))\n",
    "arr = array.array('i', lst)\n",
    "arr"
   ]
  },
  {
   "cell_type": "markdown",
   "id": "8fca6047",
   "metadata": {},
   "source": [
    "使用`numpy` `array`"
   ]
  },
  {
   "cell_type": "code",
   "execution_count": 5,
   "id": "6296a94c",
   "metadata": {},
   "outputs": [
    {
     "data": {
      "text/plain": [
       "array([1., 4., 5., 3., 2.], dtype=float32)"
      ]
     },
     "execution_count": 5,
     "metadata": {},
     "output_type": "execute_result"
    }
   ],
   "source": [
    "np.array([1, 4, 5, 3, 2], dtype='float32')"
   ]
  },
  {
   "cell_type": "code",
   "execution_count": 6,
   "id": "3765fbe7",
   "metadata": {},
   "outputs": [
    {
     "data": {
      "text/plain": [
       "array([[2, 3, 4],\n",
       "       [4, 5, 6],\n",
       "       [6, 7, 8]])"
      ]
     },
     "execution_count": 6,
     "metadata": {},
     "output_type": "execute_result"
    }
   ],
   "source": [
    "np.array([range(i, i + 3) for i in [2, 4, 6]])"
   ]
  },
  {
   "cell_type": "code",
   "execution_count": 7,
   "id": "ffb5f1aa",
   "metadata": {},
   "outputs": [
    {
     "data": {
      "text/plain": [
       "array([0, 0, 0, 0, 0, 0, 0, 0, 0, 0])"
      ]
     },
     "execution_count": 7,
     "metadata": {},
     "output_type": "execute_result"
    }
   ],
   "source": [
    "# 0 array\n",
    "np.zeros(10, dtype=int)"
   ]
  },
  {
   "cell_type": "code",
   "execution_count": 8,
   "id": "cbfdf257",
   "metadata": {},
   "outputs": [
    {
     "data": {
      "text/plain": [
       "array([[1., 1., 1.],\n",
       "       [1., 1., 1.],\n",
       "       [1., 1., 1.]])"
      ]
     },
     "execution_count": 8,
     "metadata": {},
     "output_type": "execute_result"
    }
   ],
   "source": [
    "# 全部填1，(3, 3)代表rows & columns\n",
    "np.ones((3, 3), dtype=float)"
   ]
  },
  {
   "cell_type": "code",
   "execution_count": 9,
   "id": "2378a0a5",
   "metadata": {},
   "outputs": [
    {
     "data": {
      "text/plain": [
       "array([[12, 12, 12, 12],\n",
       "       [12, 12, 12, 12],\n",
       "       [12, 12, 12, 12]])"
      ]
     },
     "execution_count": 9,
     "metadata": {},
     "output_type": "execute_result"
    }
   ],
   "source": [
    "# full則是填入指定的數值\n",
    "np.full((3, 4), 12)"
   ]
  },
  {
   "cell_type": "code",
   "execution_count": 10,
   "id": "d47d9492",
   "metadata": {},
   "outputs": [
    {
     "data": {
      "text/plain": [
       "array([ 0,  3,  6,  9, 12, 15, 18])"
      ]
     },
     "execution_count": 10,
     "metadata": {},
     "output_type": "execute_result"
    }
   ],
   "source": [
    "# array - range\n",
    "np.arange(0, 20, 3)"
   ]
  },
  {
   "cell_type": "code",
   "execution_count": 11,
   "id": "4725d664",
   "metadata": {},
   "outputs": [
    {
     "data": {
      "text/plain": [
       "array([ 0. ,  2.5,  5. ,  7.5, 10. ])"
      ]
     },
     "execution_count": 11,
     "metadata": {},
     "output_type": "execute_result"
    }
   ],
   "source": [
    "# linspace 按照線性平均分配元素(起點, 終點, 元素數量)\n",
    "np.linspace(0, 10, 5)"
   ]
  },
  {
   "cell_type": "code",
   "execution_count": 12,
   "id": "9e4f2221",
   "metadata": {},
   "outputs": [
    {
     "data": {
      "text/plain": [
       "array([[0.19854197, 0.64192022, 0.96126932],\n",
       "       [0.81745392, 0.76570364, 0.59370434]])"
      ]
     },
     "execution_count": 12,
     "metadata": {},
     "output_type": "execute_result"
    }
   ],
   "source": [
    "# random.random 是建立隨機array，數值範圍介於0~1之間\n",
    "np.random.random((2, 3))"
   ]
  },
  {
   "cell_type": "code",
   "execution_count": 13,
   "id": "eea9a29b",
   "metadata": {},
   "outputs": [
    {
     "data": {
      "text/plain": [
       "array([[-0.07891374,  0.83387145,  0.7263727 ],\n",
       "       [ 0.62007767, -0.1217671 , -0.27632892],\n",
       "       [ 0.34043225,  0.06297228, -0.94573691]])"
      ]
     },
     "execution_count": 13,
     "metadata": {},
     "output_type": "execute_result"
    }
   ],
   "source": [
    "# random.normal -> 正態分布 array\n",
    "np.random.normal(0, 1, (3, 3))"
   ]
  },
  {
   "cell_type": "code",
   "execution_count": 14,
   "id": "e0957a1f",
   "metadata": {},
   "outputs": [
    {
     "data": {
      "text/plain": [
       "array([[27,  9, 19, 19, 10],\n",
       "       [30, 39, 44, 67, 47],\n",
       "       [89, 44, 78,  6, 16],\n",
       "       [36, 69, 24, 26, 23],\n",
       "       [99, 35,  0, 20, 52]], dtype=int32)"
      ]
     },
     "execution_count": 14,
     "metadata": {},
     "output_type": "execute_result"
    }
   ],
   "source": [
    "# random.randint -> 隨機整數array\n",
    "np.random.randint(0, 100, (5, 5))"
   ]
  },
  {
   "cell_type": "code",
   "execution_count": 15,
   "id": "a93be9d7",
   "metadata": {},
   "outputs": [
    {
     "data": {
      "text/plain": [
       "array([[0.19854197, 0.64192022],\n",
       "       [0.96126932, 0.81745392],\n",
       "       [0.76570364, 0.59370434]])"
      ]
     },
     "execution_count": 15,
     "metadata": {},
     "output_type": "execute_result"
    }
   ],
   "source": [
    "# 不初始化數值\n",
    "np.empty((3, 2))"
   ]
  },
  {
   "cell_type": "code",
   "execution_count": 16,
   "id": "3bdb4916",
   "metadata": {},
   "outputs": [
    {
     "data": {
      "text/plain": [
       "array([[4596321248728132840, 4603957122870293319],\n",
       "       [4606833563820272146, 4605538189866049387],\n",
       "       [4605072064778393550, 4603522832851106797]])"
      ]
     },
     "execution_count": 16,
     "metadata": {},
     "output_type": "execute_result"
    }
   ],
   "source": [
    "np.empty((3, 2), dtype=int)"
   ]
  },
  {
   "cell_type": "markdown",
   "id": "539470d8",
   "metadata": {},
   "source": [
    "## NumPy Array 屬性"
   ]
  },
  {
   "cell_type": "code",
   "execution_count": 17,
   "id": "51e9e51d",
   "metadata": {},
   "outputs": [],
   "source": [
    "# 讓實驗(測試)數據具有可再現性 ref: https://blog.csdn.net/weixin_41571493/article/details/80549833\n",
    "np.random.seed(0)\n",
    "\n",
    "rd1 = np.random.randint(10, size=6)\n",
    "rd2 = np.random.randint(10, size=(2, 3))\n",
    "rd3 = np.random.randint(10, size=(3, 3, 3))"
   ]
  },
  {
   "cell_type": "code",
   "execution_count": 18,
   "id": "1ca6f357",
   "metadata": {},
   "outputs": [
    {
     "name": "stdout",
     "output_type": "stream",
     "text": [
      "rd3的維度(dimensions): 3\n",
      "rd3的size: (3, 3, 3)\n",
      "rd3的Length(elements): 27\n",
      "rd3的data type: int32\n"
     ]
    }
   ],
   "source": [
    "print(f'rd3的維度(dimensions): {rd3.ndim}')\n",
    "print(f'rd3的size: {rd3.shape}')\n",
    "print(f'rd3的Length(elements): {rd3.size}')\n",
    "print(f'rd3的data type: {rd3.dtype}')"
   ]
  },
  {
   "cell_type": "markdown",
   "id": "0e361d4d",
   "metadata": {},
   "source": [
    "- `itemsize`: 每個element的大小\n",
    "- `nbytes`: 整個array的總大小"
   ]
  },
  {
   "cell_type": "code",
   "execution_count": 19,
   "id": "141af4f7",
   "metadata": {},
   "outputs": [
    {
     "name": "stdout",
     "output_type": "stream",
     "text": [
      "rd3的item size: 4\n",
      "rd3的bytes: 108\n"
     ]
    }
   ],
   "source": [
    "print(f'rd3的item size: {rd3.itemsize}')\n",
    "print(f'rd3的bytes: {rd3.nbytes}')  # 4 * 27 = 108"
   ]
  },
  {
   "cell_type": "markdown",
   "id": "3643ec88",
   "metadata": {},
   "source": [
    "## Array Indexing"
   ]
  },
  {
   "cell_type": "code",
   "execution_count": 20,
   "id": "f672534b",
   "metadata": {},
   "outputs": [
    {
     "data": {
      "text/plain": [
       "array([5, 0, 3, 3, 7, 9], dtype=int32)"
      ]
     },
     "execution_count": 20,
     "metadata": {},
     "output_type": "execute_result"
    }
   ],
   "source": [
    "rd1"
   ]
  },
  {
   "cell_type": "code",
   "execution_count": 21,
   "id": "3b259dc0",
   "metadata": {},
   "outputs": [
    {
     "data": {
      "text/plain": [
       "np.int32(5)"
      ]
     },
     "execution_count": 21,
     "metadata": {},
     "output_type": "execute_result"
    }
   ],
   "source": [
    "rd1[0]"
   ]
  },
  {
   "cell_type": "code",
   "execution_count": 22,
   "id": "3739a1fd",
   "metadata": {},
   "outputs": [
    {
     "data": {
      "text/plain": [
       "np.int32(3)"
      ]
     },
     "execution_count": 22,
     "metadata": {},
     "output_type": "execute_result"
    }
   ],
   "source": [
    "rd1[3]"
   ]
  },
  {
   "cell_type": "code",
   "execution_count": 23,
   "id": "dccca35d",
   "metadata": {},
   "outputs": [
    {
     "data": {
      "text/plain": [
       "np.int32(9)"
      ]
     },
     "execution_count": 23,
     "metadata": {},
     "output_type": "execute_result"
    }
   ],
   "source": [
    "rd1[-1]"
   ]
  },
  {
   "cell_type": "code",
   "execution_count": 24,
   "id": "66a2be56",
   "metadata": {},
   "outputs": [
    {
     "data": {
      "text/plain": [
       "array([[3, 5, 2],\n",
       "       [4, 7, 6]], dtype=int32)"
      ]
     },
     "execution_count": 24,
     "metadata": {},
     "output_type": "execute_result"
    }
   ],
   "source": [
    "rd2"
   ]
  },
  {
   "cell_type": "code",
   "execution_count": 25,
   "id": "815ff29a",
   "metadata": {},
   "outputs": [
    {
     "data": {
      "text/plain": [
       "np.int32(2)"
      ]
     },
     "execution_count": 25,
     "metadata": {},
     "output_type": "execute_result"
    }
   ],
   "source": [
    "rd2[0, 2]  # 對於多維度array，直接用row, column進行取值"
   ]
  },
  {
   "cell_type": "code",
   "execution_count": 26,
   "id": "983868fd",
   "metadata": {},
   "outputs": [
    {
     "data": {
      "text/plain": [
       "array([[11,  5,  2],\n",
       "       [ 4,  7,  6]], dtype=int32)"
      ]
     },
     "execution_count": 26,
     "metadata": {},
     "output_type": "execute_result"
    }
   ],
   "source": [
    "rd2[0, 0] = 11  # 可以直接修改array中的數值，但必須要注意dtype\n",
    "rd2"
   ]
  },
  {
   "cell_type": "markdown",
   "id": "c3404ba0",
   "metadata": {},
   "source": [
    "### One-Dimensional Subarray"
   ]
  },
  {
   "cell_type": "code",
   "execution_count": 27,
   "id": "7571c02a",
   "metadata": {},
   "outputs": [
    {
     "data": {
      "text/plain": [
       "array([0, 1, 2, 3, 4, 5, 6, 7, 8, 9])"
      ]
     },
     "execution_count": 27,
     "metadata": {},
     "output_type": "execute_result"
    }
   ],
   "source": [
    "arr = np.arange(10)\n",
    "arr"
   ]
  },
  {
   "cell_type": "code",
   "execution_count": 28,
   "id": "7b664025",
   "metadata": {},
   "outputs": [
    {
     "data": {
      "text/plain": [
       "array([0, 1, 2, 3, 4])"
      ]
     },
     "execution_count": 28,
     "metadata": {},
     "output_type": "execute_result"
    }
   ],
   "source": [
    "arr[:5]"
   ]
  },
  {
   "cell_type": "code",
   "execution_count": 29,
   "id": "8e765287",
   "metadata": {},
   "outputs": [
    {
     "data": {
      "text/plain": [
       "array([0, 2, 4, 6, 8])"
      ]
     },
     "execution_count": 29,
     "metadata": {},
     "output_type": "execute_result"
    }
   ],
   "source": [
    "arr[::2]"
   ]
  },
  {
   "cell_type": "code",
   "execution_count": 30,
   "id": "58416754",
   "metadata": {},
   "outputs": [
    {
     "data": {
      "text/plain": [
       "array([1, 3, 5, 7, 9])"
      ]
     },
     "execution_count": 30,
     "metadata": {},
     "output_type": "execute_result"
    }
   ],
   "source": [
    "arr[1::2]"
   ]
  },
  {
   "cell_type": "code",
   "execution_count": 31,
   "id": "97b18355",
   "metadata": {},
   "outputs": [
    {
     "data": {
      "text/plain": [
       "array([5, 3, 1])"
      ]
     },
     "execution_count": 31,
     "metadata": {},
     "output_type": "execute_result"
    }
   ],
   "source": [
    "arr[5::-2]  # start from index 5, step=-2"
   ]
  },
  {
   "cell_type": "markdown",
   "id": "b2595ffc",
   "metadata": {},
   "source": [
    "### Multi-Dimensional Subarray"
   ]
  },
  {
   "cell_type": "code",
   "execution_count": 32,
   "id": "3a2a7087",
   "metadata": {},
   "outputs": [],
   "source": [
    "arr = np.random.randint(1, 10 ,(3, 4))"
   ]
  },
  {
   "cell_type": "code",
   "execution_count": 33,
   "id": "0d8b9fb3",
   "metadata": {},
   "outputs": [
    {
     "data": {
      "text/plain": [
       "array([[2, 1, 5, 8],\n",
       "       [4, 3, 8, 3],\n",
       "       [1, 1, 5, 6]], dtype=int32)"
      ]
     },
     "execution_count": 33,
     "metadata": {},
     "output_type": "execute_result"
    }
   ],
   "source": [
    "arr"
   ]
  },
  {
   "cell_type": "code",
   "execution_count": 34,
   "id": "639a0480",
   "metadata": {},
   "outputs": [
    {
     "data": {
      "text/plain": [
       "array([[2, 1, 5],\n",
       "       [4, 3, 8]], dtype=int32)"
      ]
     },
     "execution_count": 34,
     "metadata": {},
     "output_type": "execute_result"
    }
   ],
   "source": [
    "arr[:2, :3]  # 取(2, 3)，用row, column的結構去思考"
   ]
  },
  {
   "cell_type": "code",
   "execution_count": 35,
   "id": "2feeca8c",
   "metadata": {},
   "outputs": [
    {
     "data": {
      "text/plain": [
       "array([[6, 5, 1, 1],\n",
       "       [3, 8, 3, 4],\n",
       "       [8, 5, 1, 2]], dtype=int32)"
      ]
     },
     "execution_count": 35,
     "metadata": {},
     "output_type": "execute_result"
    }
   ],
   "source": [
    "arr[::-1, ::-1]  # reverse all arrays"
   ]
  },
  {
   "cell_type": "code",
   "execution_count": 36,
   "id": "27e70d52",
   "metadata": {},
   "outputs": [
    {
     "data": {
      "text/plain": [
       "array([2, 1, 5, 8], dtype=int32)"
      ]
     },
     "execution_count": 36,
     "metadata": {},
     "output_type": "execute_result"
    }
   ],
   "source": [
    "arr[0]"
   ]
  },
  {
   "cell_type": "markdown",
   "id": "6b10787b",
   "metadata": {},
   "source": [
    "※ 以上操作皆指向同一個object，並非複本"
   ]
  },
  {
   "cell_type": "markdown",
   "id": "b444a33f",
   "metadata": {},
   "source": [
    "## Create the copies of arrays"
   ]
  },
  {
   "cell_type": "code",
   "execution_count": 37,
   "id": "999f42fb",
   "metadata": {},
   "outputs": [
    {
     "name": "stdout",
     "output_type": "stream",
     "text": [
      "[[2 1 5]\n",
      " [4 3 8]]\n"
     ]
    }
   ],
   "source": [
    "arr_sub_copy = arr[:2, :3].copy()\n",
    "print(arr_sub_copy)"
   ]
  },
  {
   "cell_type": "code",
   "execution_count": 38,
   "id": "89f76913",
   "metadata": {},
   "outputs": [
    {
     "name": "stdout",
     "output_type": "stream",
     "text": [
      "[[100   1   5]\n",
      " [  4   3   8]]\n"
     ]
    }
   ],
   "source": [
    "arr_sub_copy[0, 0] = 100\n",
    "print(arr_sub_copy)"
   ]
  },
  {
   "cell_type": "code",
   "execution_count": 39,
   "id": "202f8aa6",
   "metadata": {},
   "outputs": [
    {
     "data": {
      "text/plain": [
       "array([[2, 1, 5, 8],\n",
       "       [4, 3, 8, 3],\n",
       "       [1, 1, 5, 6]], dtype=int32)"
      ]
     },
     "execution_count": 39,
     "metadata": {},
     "output_type": "execute_result"
    }
   ],
   "source": [
    "arr"
   ]
  },
  {
   "cell_type": "markdown",
   "id": "a60e6111",
   "metadata": {},
   "source": [
    "調整Array shape"
   ]
  },
  {
   "cell_type": "code",
   "execution_count": 40,
   "id": "d34bc32b",
   "metadata": {},
   "outputs": [
    {
     "name": "stdout",
     "output_type": "stream",
     "text": [
      "[[1 2 3]\n",
      " [4 5 6]\n",
      " [7 8 9]]\n"
     ]
    }
   ],
   "source": [
    "# 要注意長度更改前後的長度要符合\n",
    "arr = np.arange(1, 10).reshape((3, 3))\n",
    "print(arr)"
   ]
  },
  {
   "cell_type": "code",
   "execution_count": 41,
   "id": "42b8eebb",
   "metadata": {},
   "outputs": [],
   "source": [
    "arr = np.array([1, 2, 3])"
   ]
  },
  {
   "cell_type": "code",
   "execution_count": 42,
   "id": "61256de8",
   "metadata": {},
   "outputs": [
    {
     "data": {
      "text/plain": [
       "array([[1, 2, 3]])"
      ]
     },
     "execution_count": 42,
     "metadata": {},
     "output_type": "execute_result"
    }
   ],
   "source": [
    "arr.reshape((1, 3))"
   ]
  },
  {
   "cell_type": "code",
   "execution_count": 43,
   "id": "b2746c28",
   "metadata": {},
   "outputs": [
    {
     "data": {
      "text/plain": [
       "(3,)"
      ]
     },
     "execution_count": 43,
     "metadata": {},
     "output_type": "execute_result"
    }
   ],
   "source": [
    "arr.shape"
   ]
  },
  {
   "cell_type": "markdown",
   "id": "6eec0a45",
   "metadata": {},
   "source": [
    "`newaxis`: 轉變matrix shape (如: (1, 3) -> (3, 1))"
   ]
  },
  {
   "cell_type": "code",
   "execution_count": 44,
   "id": "88737d99",
   "metadata": {},
   "outputs": [
    {
     "data": {
      "text/plain": [
       "array([[1, 2, 3]])"
      ]
     },
     "execution_count": 44,
     "metadata": {},
     "output_type": "execute_result"
    }
   ],
   "source": [
    "arr[np.newaxis, :]"
   ]
  },
  {
   "cell_type": "code",
   "execution_count": 45,
   "id": "7030cc90",
   "metadata": {},
   "outputs": [
    {
     "data": {
      "text/plain": [
       "(3,)"
      ]
     },
     "execution_count": 45,
     "metadata": {},
     "output_type": "execute_result"
    }
   ],
   "source": [
    "arr.shape"
   ]
  },
  {
   "cell_type": "code",
   "execution_count": 46,
   "id": "f1b91c0d",
   "metadata": {},
   "outputs": [
    {
     "data": {
      "text/plain": [
       "array([[1],\n",
       "       [2],\n",
       "       [3]])"
      ]
     },
     "execution_count": 46,
     "metadata": {},
     "output_type": "execute_result"
    }
   ],
   "source": [
    "arr.reshape((3, 1))"
   ]
  },
  {
   "cell_type": "code",
   "execution_count": 47,
   "id": "c10d00f0",
   "metadata": {},
   "outputs": [
    {
     "data": {
      "text/plain": [
       "array([[1],\n",
       "       [2],\n",
       "       [3]])"
      ]
     },
     "execution_count": 47,
     "metadata": {},
     "output_type": "execute_result"
    }
   ],
   "source": [
    "arr[:, np.newaxis]"
   ]
  },
  {
   "cell_type": "markdown",
   "id": "77e24313",
   "metadata": {},
   "source": [
    "## Array Concatenation & Splitting"
   ]
  },
  {
   "cell_type": "markdown",
   "id": "faccc5ff",
   "metadata": {},
   "source": [
    "`concatenate`: 裡面放的是一個List[array]，可以是多個objects在裡面一起concat"
   ]
  },
  {
   "cell_type": "code",
   "execution_count": 48,
   "id": "e7198bd4",
   "metadata": {},
   "outputs": [
    {
     "data": {
      "text/plain": [
       "array([1, 3, 5, 2, 4, 6])"
      ]
     },
     "execution_count": 48,
     "metadata": {},
     "output_type": "execute_result"
    }
   ],
   "source": [
    "a = np.array([1, 3, 5])\n",
    "b = np.array([2, 4, 6])\n",
    "np.concatenate([a, b])  # 記憶: 跟pandas.concat有點相似"
   ]
  },
  {
   "cell_type": "code",
   "execution_count": 49,
   "id": "5ee4683d",
   "metadata": {},
   "outputs": [
    {
     "data": {
      "text/plain": [
       "array([1, 3, 5, 2, 4, 6, 2, 3, 5])"
      ]
     },
     "execution_count": 49,
     "metadata": {},
     "output_type": "execute_result"
    }
   ],
   "source": [
    "c = [2, 3, 5]\n",
    "np.concatenate([a, b, c])"
   ]
  },
  {
   "cell_type": "code",
   "execution_count": 50,
   "id": "46e04dd6",
   "metadata": {},
   "outputs": [],
   "source": [
    "arr = np.array([\n",
    "    [1, 2, 3],\n",
    "    [4, 5, 6]\n",
    "])"
   ]
  },
  {
   "cell_type": "code",
   "execution_count": 51,
   "id": "6847f016",
   "metadata": {},
   "outputs": [
    {
     "data": {
      "text/plain": [
       "array([[1, 2, 3],\n",
       "       [4, 5, 6],\n",
       "       [1, 2, 3],\n",
       "       [4, 5, 6]])"
      ]
     },
     "execution_count": 51,
     "metadata": {},
     "output_type": "execute_result"
    }
   ],
   "source": [
    "# 範例是把Self array concat\n",
    "np.concatenate([arr, arr])"
   ]
  },
  {
   "cell_type": "code",
   "execution_count": 52,
   "id": "55e2bb7c",
   "metadata": {},
   "outputs": [
    {
     "data": {
      "text/plain": [
       "array([[1, 2, 3, 1, 2, 3],\n",
       "       [4, 5, 6, 4, 5, 6]])"
      ]
     },
     "execution_count": 52,
     "metadata": {},
     "output_type": "execute_result"
    }
   ],
   "source": [
    "# axis=0 (default)，可理解成依照rows去concat，也可以指定依照axis=1進行\n",
    "np.concatenate([arr, arr], axis=1)"
   ]
  },
  {
   "cell_type": "markdown",
   "id": "a685ab7b",
   "metadata": {},
   "source": [
    "### 不同dimensional合併\n",
    "\n",
    "- `np.vstack`: 垂直(vertical) stack\n",
    "- `np.hstack`: horizontal stack"
   ]
  },
  {
   "cell_type": "code",
   "execution_count": 53,
   "id": "5c94c614",
   "metadata": {},
   "outputs": [
    {
     "data": {
      "text/plain": [
       "array([[1, 2, 3],\n",
       "       [2, 4, 6],\n",
       "       [1, 3, 5]])"
      ]
     },
     "execution_count": 53,
     "metadata": {},
     "output_type": "execute_result"
    }
   ],
   "source": [
    "a = np.array([1, 2, 3])\n",
    "base = np.array([\n",
    "    [2, 4, 6],\n",
    "    [1, 3, 5]\n",
    "])\n",
    "np.vstack([a, base])"
   ]
  },
  {
   "cell_type": "code",
   "execution_count": 54,
   "id": "ce88f68c",
   "metadata": {},
   "outputs": [
    {
     "data": {
      "text/plain": [
       "array([[  2,   4,   6, 111],\n",
       "       [  1,   3,   5, 121]])"
      ]
     },
     "execution_count": 54,
     "metadata": {},
     "output_type": "execute_result"
    }
   ],
   "source": [
    "b = np.array([\n",
    "    [111],\n",
    "    [121]\n",
    "])\n",
    "np.hstack([base, b])"
   ]
  },
  {
   "cell_type": "markdown",
   "id": "2de7d23f",
   "metadata": {},
   "source": [
    "### Splitting"
   ]
  },
  {
   "cell_type": "code",
   "execution_count": 55,
   "id": "72e70cb4",
   "metadata": {},
   "outputs": [
    {
     "name": "stdout",
     "output_type": "stream",
     "text": [
      "[2 4 6] [ 8 10] [12 15]\n"
     ]
    }
   ],
   "source": [
    "arr = [2, 4, 6, 8, 10, 12, 15]\n",
    "a, b, c = np.split(arr, [3, 5])  # 第二個參數可以指定切割位置(index)\n",
    "print(a, b, c)"
   ]
  },
  {
   "cell_type": "code",
   "execution_count": 56,
   "id": "20360d42",
   "metadata": {},
   "outputs": [
    {
     "data": {
      "text/plain": [
       "array([[0, 1, 2],\n",
       "       [3, 4, 5],\n",
       "       [6, 7, 8]])"
      ]
     },
     "execution_count": 56,
     "metadata": {},
     "output_type": "execute_result"
    }
   ],
   "source": [
    "arr = np.arange(9).reshape((3, 3))\n",
    "arr"
   ]
  },
  {
   "cell_type": "code",
   "execution_count": 57,
   "id": "857260e4",
   "metadata": {},
   "outputs": [
    {
     "name": "stdout",
     "output_type": "stream",
     "text": [
      "[[0 1 2]]\n",
      "[[3 4 5]\n",
      " [6 7 8]]\n"
     ]
    }
   ],
   "source": [
    "upper, lower = np.vsplit(arr, [1])\n",
    "print(upper)\n",
    "print(lower)"
   ]
  },
  {
   "cell_type": "markdown",
   "id": "63b8f67f",
   "metadata": {},
   "source": [
    "※ 以3 * 3分割，因為參數給定1，所以會從index=1的位置進行切割"
   ]
  },
  {
   "cell_type": "code",
   "execution_count": 58,
   "id": "8067ebbe",
   "metadata": {},
   "outputs": [
    {
     "name": "stdout",
     "output_type": "stream",
     "text": [
      "[[0]\n",
      " [3]\n",
      " [6]]\n",
      "[[1 2]\n",
      " [4 5]\n",
      " [7 8]]\n"
     ]
    }
   ],
   "source": [
    "left, right = np.hsplit(arr, [1])\n",
    "print(left)\n",
    "print(right)"
   ]
  }
 ],
 "metadata": {
  "kernelspec": {
   "display_name": "da01",
   "language": "python",
   "name": "python3"
  },
  "language_info": {
   "codemirror_mode": {
    "name": "ipython",
    "version": 3
   },
   "file_extension": ".py",
   "mimetype": "text/x-python",
   "name": "python",
   "nbconvert_exporter": "python",
   "pygments_lexer": "ipython3",
   "version": "3.12.6"
  }
 },
 "nbformat": 4,
 "nbformat_minor": 5
}
