{
 "cells": [
  {
   "cell_type": "markdown",
   "id": "cf476160",
   "metadata": {},
   "source": [
    "# Summary Statistic\n",
    "\n",
    "Aggregates functions用來計算`sum`, `product`, `mean`, `median`, `minimum`, `maximum`, `quantiles`"
   ]
  },
  {
   "cell_type": "code",
   "execution_count": 1,
   "id": "fa597444",
   "metadata": {},
   "outputs": [],
   "source": [
    "import numpy as np"
   ]
  },
  {
   "cell_type": "code",
   "execution_count": 2,
   "id": "0b4f5c18",
   "metadata": {},
   "outputs": [],
   "source": [
    "np.random.seed(5)"
   ]
  },
  {
   "cell_type": "code",
   "execution_count": 3,
   "id": "e5ea9f41",
   "metadata": {},
   "outputs": [
    {
     "data": {
      "text/plain": [
       "np.float64(49.211023988470934)"
      ]
     },
     "execution_count": 3,
     "metadata": {},
     "output_type": "execute_result"
    }
   ],
   "source": [
    "lst = np.random.random(100)\n",
    "sum(lst)  # 直接使用Python內建sum函式計算"
   ]
  },
  {
   "cell_type": "code",
   "execution_count": 4,
   "id": "5a2ca5d6",
   "metadata": {},
   "outputs": [
    {
     "data": {
      "text/plain": [
       "np.float64(49.21102398847093)"
      ]
     },
     "execution_count": 4,
     "metadata": {},
     "output_type": "execute_result"
    }
   ],
   "source": [
    "# NumPy的Sum function\n",
    "np.sum(lst)"
   ]
  },
  {
   "cell_type": "markdown",
   "id": "112f6b3e",
   "metadata": {},
   "source": [
    "※ NumPy的`np.sum`可以用於處理多維Array"
   ]
  },
  {
   "cell_type": "code",
   "execution_count": 5,
   "id": "f4b74677",
   "metadata": {},
   "outputs": [
    {
     "name": "stdout",
     "output_type": "stream",
     "text": [
      "464 ms ± 2.64 ms per loop (mean ± std. dev. of 7 runs, 1 loop each)\n",
      "9.35 ms ± 126 μs per loop (mean ± std. dev. of 7 runs, 100 loops each)\n"
     ]
    }
   ],
   "source": [
    "big_arr = np.random.rand(10000000)\n",
    "%timeit sum(big_arr)\n",
    "%timeit np.sum(big_arr)"
   ]
  },
  {
   "cell_type": "code",
   "execution_count": 6,
   "id": "de42f0a9",
   "metadata": {},
   "outputs": [
    {
     "data": {
      "text/plain": [
       "(np.float64(5.031311256509241e-09), np.float64(0.9999999302324853))"
      ]
     },
     "execution_count": 6,
     "metadata": {},
     "output_type": "execute_result"
    }
   ],
   "source": [
    "np.min(big_arr), np.max(big_arr)  # 同sum, NumPy.min, max的速度會快很多"
   ]
  },
  {
   "cell_type": "markdown",
   "id": "aa398e65",
   "metadata": {},
   "source": [
    "## Multi Dimensional Aggregations"
   ]
  },
  {
   "cell_type": "code",
   "execution_count": 7,
   "id": "57e60d9f",
   "metadata": {},
   "outputs": [
    {
     "data": {
      "text/plain": [
       "array([[0.02939065, 0.51687422, 0.04862007, 0.97348535, 0.59306794],\n",
       "       [0.97429226, 0.5508251 , 0.67623922, 0.41028179, 0.52026982],\n",
       "       [0.16859007, 0.20722841, 0.76944538, 0.74097617, 0.53403434],\n",
       "       [0.36095454, 0.85166505, 0.07582206, 0.47635009, 0.20952775],\n",
       "       [0.84553428, 0.61873225, 0.44177493, 0.31067075, 0.00899623]])"
      ]
     },
     "execution_count": 7,
     "metadata": {},
     "output_type": "execute_result"
    }
   ],
   "source": [
    "# 建立一個多維Array\n",
    "arr = np.random.random((5, 5))\n",
    "arr"
   ]
  },
  {
   "cell_type": "code",
   "execution_count": 8,
   "id": "e48ffdfe",
   "metadata": {},
   "outputs": [
    {
     "data": {
      "text/plain": [
       "np.float64(11.913648726234932)"
      ]
     },
     "execution_count": 8,
     "metadata": {},
     "output_type": "execute_result"
    }
   ],
   "source": [
    "# 計算整個array的結果\n",
    "arr.sum()"
   ]
  },
  {
   "cell_type": "code",
   "execution_count": 9,
   "id": "6b07f5e7",
   "metadata": {},
   "outputs": [
    {
     "data": {
      "text/plain": [
       "array([2.3787618 , 2.74532503, 2.01190166, 2.91176415, 1.86589608])"
      ]
     },
     "execution_count": 9,
     "metadata": {},
     "output_type": "execute_result"
    }
   ],
   "source": [
    "# 沿著指定方向進行聚合計算\n",
    "arr.sum(axis=0)"
   ]
  },
  {
   "cell_type": "code",
   "execution_count": 10,
   "id": "44ffdf47",
   "metadata": {},
   "outputs": [
    {
     "data": {
      "text/plain": [
       "array([2.16143823, 3.1319082 , 2.42027437, 1.97431948, 2.22570844])"
      ]
     },
     "execution_count": 10,
     "metadata": {},
     "output_type": "execute_result"
    }
   ],
   "source": [
    "arr.sum(axis=1)  # 沿著columns"
   ]
  },
  {
   "cell_type": "code",
   "execution_count": 11,
   "id": "bcaae8bf",
   "metadata": {},
   "outputs": [
    {
     "data": {
      "text/plain": [
       "array([0.97429226, 0.85166505, 0.76944538, 0.97348535, 0.59306794])"
      ]
     },
     "execution_count": 11,
     "metadata": {},
     "output_type": "execute_result"
    }
   ],
   "source": [
    "arr.max(axis=0)"
   ]
  },
  {
   "cell_type": "code",
   "execution_count": 12,
   "id": "ab48ff54",
   "metadata": {},
   "outputs": [
    {
     "data": {
      "text/plain": [
       "array([0.47575236, 0.54906501, 0.40238033, 0.58235283, 0.37317922])"
      ]
     },
     "execution_count": 12,
     "metadata": {},
     "output_type": "execute_result"
    }
   ],
   "source": [
    "# 大部分的aggregation functions都有NaN版本\n",
    "np.nanmean(arr, axis=0)"
   ]
  },
  {
   "cell_type": "markdown",
   "id": "1acb8d19",
   "metadata": {},
   "source": [
    "### 範例練習"
   ]
  },
  {
   "cell_type": "code",
   "execution_count": 13,
   "id": "7c8e010d",
   "metadata": {},
   "outputs": [],
   "source": [
    "import pandas as pd"
   ]
  },
  {
   "cell_type": "code",
   "execution_count": 14,
   "id": "c9e90044",
   "metadata": {},
   "outputs": [
    {
     "data": {
      "text/plain": [
       "array([189, 170, 189, 163, 183, 171, 185, 168, 173, 183, 173, 173, 175,\n",
       "       178, 183, 193, 178, 173, 174, 183, 183, 168, 170, 178, 182, 180,\n",
       "       183, 178, 182, 188, 175, 179, 183, 193, 182, 183, 177, 185, 188,\n",
       "       188, 182, 185])"
      ]
     },
     "execution_count": 14,
     "metadata": {},
     "output_type": "execute_result"
    }
   ],
   "source": [
    "df = pd.read_csv('../dataset/president_heights.csv')\n",
    "heights = np.array(df['height(cm)'])\n",
    "heights"
   ]
  },
  {
   "cell_type": "code",
   "execution_count": 15,
   "id": "9fad6eda",
   "metadata": {},
   "outputs": [
    {
     "name": "stdout",
     "output_type": "stream",
     "text": [
      "Mean height: 179.73809523809524\n",
      "Standard height: 6.931843442745892\n",
      "Minimum height: 163\n",
      "Maximum height: 193\n"
     ]
    }
   ],
   "source": [
    "print(f'Mean height: {heights.mean()}')\n",
    "print(f'Standard height: {heights.std()}')\n",
    "print(f'Minimum height: {heights.min()}')\n",
    "print(f'Maximum height: {heights.max()}')"
   ]
  },
  {
   "cell_type": "code",
   "execution_count": 16,
   "id": "44a3c070",
   "metadata": {},
   "outputs": [
    {
     "name": "stdout",
     "output_type": "stream",
     "text": [
      "25th(1/4) percentile: 174.25\n",
      "Median: 182.0\n",
      "75th(3/4) percentile: 183.0\n"
     ]
    }
   ],
   "source": [
    "# 取得Quantile\n",
    "print(f'25th(1/4) percentile: {np.percentile(heights, 25)}')\n",
    "print(f'Median: {np.percentile(heights, 50)}')\n",
    "print(f'75th(3/4) percentile: {np.percentile(heights, 75)}')"
   ]
  },
  {
   "cell_type": "markdown",
   "id": "a245f48e",
   "metadata": {},
   "source": [
    "使用`Matplotlib`工具進行繪圖"
   ]
  },
  {
   "cell_type": "code",
   "execution_count": 17,
   "id": "829fa569",
   "metadata": {},
   "outputs": [],
   "source": [
    "import matplotlib.pyplot as plt\n",
    "import seaborn; seaborn.set_style('darkgrid')\n",
    "%matplotlib inline"
   ]
  },
  {
   "cell_type": "code",
   "execution_count": 18,
   "id": "b7285a34",
   "metadata": {},
   "outputs": [
    {
     "data": {
      "image/png": "[encoded data removed]",
      "text/plain": [
       "<Figure size 640x480 with 1 Axes>"
      ]
     },
     "metadata": {},
     "output_type": "display_data"
    }
   ],
   "source": [
    "plt.hist(heights)\n",
    "plt.title('Height Distribution of US Presidents')\n",
    "plt.xlabel('Height (cm)')\n",
    "plt.ylabel('Number')\n",
    "plt.tight_layout()"
   ]
  },
  {
   "cell_type": "code",
   "execution_count": 19,
   "id": "59234a3e",
   "metadata": {},
   "outputs": [
    {
     "data": {
      "image/png": "[encoded data removed]",
      "text/plain": [
       "<Figure size 640x480 with 1 Axes>"
      ]
     },
     "metadata": {},
     "output_type": "display_data"
    }
   ],
   "source": [
    "# 製作Boxplot\n",
    "plt.boxplot(heights)\n",
    "plt.title('Heights Boxplot')\n",
    "plt.xticks([1], ['All Presidents'])\n",
    "plt.ylabel('Height (cm)')\n",
    "plt.tight_layout()"
   ]
  }
 ],
 "metadata": {
  "kernelspec": {
   "display_name": "da01_ydata",
   "language": "python",
   "name": "python3"
  },
  "language_info": {
   "codemirror_mode": {
    "name": "ipython",
    "version": 3
   },
   "file_extension": ".py",
   "mimetype": "text/x-python",
   "name": "python",
   "nbconvert_exporter": "python",
   "pygments_lexer": "ipython3",
   "version": "3.10.18"
  }
 },
 "nbformat": 4,
 "nbformat_minor": 5
}
