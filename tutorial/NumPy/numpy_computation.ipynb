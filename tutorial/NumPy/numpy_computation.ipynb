{
 "cells": [
  {
   "cell_type": "code",
   "execution_count": 1,
   "id": "f36505de",
   "metadata": {},
   "outputs": [],
   "source": [
    "import numpy as np"
   ]
  },
  {
   "cell_type": "code",
   "execution_count": 2,
   "id": "236a6731",
   "metadata": {},
   "outputs": [],
   "source": [
    "np.random.seed(0)"
   ]
  },
  {
   "cell_type": "code",
   "execution_count": 3,
   "id": "18021283",
   "metadata": {},
   "outputs": [
    {
     "data": {
      "text/plain": [
       "array([0.16666667, 1.        , 0.25      , 0.25      , 0.125     ])"
      ]
     },
     "execution_count": 3,
     "metadata": {},
     "output_type": "execute_result"
    }
   ],
   "source": [
    "def compute_reciprocals(values):\n",
    "    output = np.empty(len(values))\n",
    "    for i in range(len(values)):\n",
    "        # 1.0除以每個element，取倒數，並把數值copy到empty(output) array中\n",
    "        output[i] = 1.0 / values[i]\n",
    "    return output\n",
    "\n",
    "# 生成一個array\n",
    "values = np.random.randint(1, 10, size=5)\n",
    "compute_reciprocals(values)"
   ]
  },
  {
   "cell_type": "markdown",
   "id": "b9ef3a74",
   "metadata": {},
   "source": [
    "`%timeit`: 測量運行時間。"
   ]
  },
  {
   "cell_type": "code",
   "execution_count": 4,
   "id": "c4c20df6",
   "metadata": {},
   "outputs": [
    {
     "name": "stdout",
     "output_type": "stream",
     "text": [
      "1.34 s ± 96.3 ms per loop (mean ± std. dev. of 7 runs, 1 loop each)\n"
     ]
    }
   ],
   "source": [
    "big_arr = np.random.randint(1, 100, size=1000000)\n",
    "%timeit compute_reciprocals(big_arr)"
   ]
  },
  {
   "cell_type": "markdown",
   "id": "e68541c4",
   "metadata": {},
   "source": [
    "# UFuncs (Universal Function)"
   ]
  },
  {
   "cell_type": "code",
   "execution_count": 5,
   "id": "72b4d24f",
   "metadata": {},
   "outputs": [
    {
     "name": "stdout",
     "output_type": "stream",
     "text": [
      "[0.16666667 1.         0.25       0.25       0.125     ]\n",
      "[0.16666667 1.         0.25       0.25       0.125     ]\n"
     ]
    }
   ],
   "source": [
    "# Call function(用for迴圈)\n",
    "print(compute_reciprocals(values))\n",
    "# Ufunsc\n",
    "print(1.0 / values)"
   ]
  },
  {
   "cell_type": "markdown",
   "id": "558932e1",
   "metadata": {},
   "source": [
    "※ 結果是一樣的"
   ]
  },
  {
   "cell_type": "code",
   "execution_count": 6,
   "id": "e3fa5f5c",
   "metadata": {},
   "outputs": [
    {
     "name": "stdout",
     "output_type": "stream",
     "text": [
      "1.83 ms ± 88.2 μs per loop (mean ± std. dev. of 7 runs, 1,000 loops each)\n"
     ]
    }
   ],
   "source": [
    "%timeit (1.0 / big_arr)"
   ]
  },
  {
   "cell_type": "markdown",
   "id": "1d84a5b1",
   "metadata": {},
   "source": [
    "執行時間從1.18s -> **1.66ms** (縮短非常多)"
   ]
  },
  {
   "cell_type": "code",
   "execution_count": 7,
   "id": "84b3c8e0",
   "metadata": {},
   "outputs": [
    {
     "data": {
      "text/plain": [
       "array([0.        , 0.5       , 0.66666667, 0.75      , 0.8       ])"
      ]
     },
     "execution_count": 7,
     "metadata": {},
     "output_type": "execute_result"
    }
   ],
   "source": [
    "np.arange(5) / np.arange(1, 6)"
   ]
  },
  {
   "cell_type": "code",
   "execution_count": 8,
   "id": "cd6abef5",
   "metadata": {},
   "outputs": [
    {
     "data": {
      "text/plain": [
       "array([[  1,   2,   4],\n",
       "       [  8,  16,  32],\n",
       "       [ 64, 128, 256]])"
      ]
     },
     "execution_count": 8,
     "metadata": {},
     "output_type": "execute_result"
    }
   ],
   "source": [
    "arr = np.arange(9).reshape(3, 3)\n",
    "# 對所有element進行2**ele運算\n",
    "2 ** arr"
   ]
  },
  {
   "cell_type": "code",
   "execution_count": 9,
   "id": "6c1cc725",
   "metadata": {},
   "outputs": [
    {
     "data": {
      "text/plain": [
       "array([[-10,  -9,  -8],\n",
       "       [ -7,  -6,  -5],\n",
       "       [ -4,  -3,  -2]])"
      ]
     },
     "execution_count": 9,
     "metadata": {},
     "output_type": "execute_result"
    }
   ],
   "source": [
    "arr - 10"
   ]
  },
  {
   "cell_type": "code",
   "execution_count": 10,
   "id": "68f42559",
   "metadata": {},
   "outputs": [
    {
     "data": {
      "text/plain": [
       "array([0, 1, 2, 3, 4])"
      ]
     },
     "execution_count": 10,
     "metadata": {},
     "output_type": "execute_result"
    }
   ],
   "source": [
    "arr = np.arange(5)\n",
    "arr"
   ]
  },
  {
   "cell_type": "code",
   "execution_count": 11,
   "id": "46846fa2",
   "metadata": {},
   "outputs": [
    {
     "name": "stdout",
     "output_type": "stream",
     "text": [
      "array = [0 1 2 3 4]\n",
      "array + 5 = [5 6 7 8 9]\n",
      "array - 5 = [-5 -4 -3 -2 -1]\n",
      "array * 2 = [0 2 4 6 8]\n",
      "array / 2 = [0.  0.5 1.  1.5 2. ]\n",
      "array // 2 = [0 0 1 1 2]\n",
      "array % 2 = [0 1 0 1 0]\n"
     ]
    }
   ],
   "source": [
    "# 可以對array的所有元素進行相同運算\n",
    "print(f\"array = {arr}\")\n",
    "print(f\"array + 5 = {arr + 5}\")\n",
    "print(f\"array - 5 = {arr - 5}\")\n",
    "print(f\"array * 2 = {arr * 2}\")\n",
    "print(f\"array / 2 = {arr / 2}\")\n",
    "print(f\"array // 2 = {arr // 2}\")\n",
    "print(f\"array % 2 = {arr % 2}\")"
   ]
  },
  {
   "cell_type": "code",
   "execution_count": 12,
   "id": "4e00c541",
   "metadata": {},
   "outputs": [
    {
     "data": {
      "text/plain": [
       "array([-100.  , -110.25, -121.  , -132.25, -144.  ])"
      ]
     },
     "execution_count": 12,
     "metadata": {},
     "output_type": "execute_result"
    }
   ],
   "source": [
    "# 也可以結合起來一次運算\n",
    "-(0.5 * arr + 10) ** 2"
   ]
  },
  {
   "cell_type": "markdown",
   "id": "2f07a641",
   "metadata": {},
   "source": [
    "Ufuncs也支援Python原生functions"
   ]
  },
  {
   "cell_type": "code",
   "execution_count": 13,
   "id": "4b08cd04",
   "metadata": {},
   "outputs": [
    {
     "data": {
      "text/plain": [
       "array([  5,   4, 100,   0,   9])"
      ]
     },
     "execution_count": 13,
     "metadata": {},
     "output_type": "execute_result"
    }
   ],
   "source": [
    "# abs\n",
    "arr = np.array(\n",
    "    [-5, -4, -100, 0, 9]\n",
    ")\n",
    "abs(arr)"
   ]
  },
  {
   "cell_type": "code",
   "execution_count": 14,
   "id": "aa8f06d9",
   "metadata": {},
   "outputs": [
    {
     "data": {
      "text/plain": [
       "array([  5,   4, 100,   0,   9])"
      ]
     },
     "execution_count": 14,
     "metadata": {},
     "output_type": "execute_result"
    }
   ],
   "source": [
    "# NumPy function\n",
    "np.absolute(arr)"
   ]
  },
  {
   "cell_type": "code",
   "execution_count": 15,
   "id": "347f38ef",
   "metadata": {},
   "outputs": [
    {
     "data": {
      "text/plain": [
       "array([  5,   4, 100,   0,   9])"
      ]
     },
     "execution_count": 15,
     "metadata": {},
     "output_type": "execute_result"
    }
   ],
   "source": [
    "# Or np.abs\n",
    "np.abs(arr)"
   ]
  },
  {
   "cell_type": "code",
   "execution_count": 16,
   "id": "734494ea",
   "metadata": {},
   "outputs": [
    {
     "data": {
      "text/plain": [
       "array([5., 5., 2., 1.])"
      ]
     },
     "execution_count": 16,
     "metadata": {},
     "output_type": "execute_result"
    }
   ],
   "source": [
    "# Complex Data\n",
    "arr = np.array(\n",
    "    [3 - 4j, 4 - 3j, 2 + 0j, 0 + 1j]\n",
    ")\n",
    "np.abs(arr)"
   ]
  },
  {
   "cell_type": "markdown",
   "id": "0c7ea819",
   "metadata": {},
   "source": [
    "※ |a + bi| = 取平方根(a^2 + b^2)"
   ]
  },
  {
   "cell_type": "markdown",
   "id": "3340a626",
   "metadata": {},
   "source": [
    "## Trigonometric Functions\n",
    "三角函式"
   ]
  },
  {
   "cell_type": "code",
   "execution_count": 17,
   "id": "790a9bc8",
   "metadata": {},
   "outputs": [
    {
     "data": {
      "text/plain": [
       "array([0.        , 1.57079633, 3.14159265])"
      ]
     },
     "execution_count": 17,
     "metadata": {},
     "output_type": "execute_result"
    }
   ],
   "source": [
    "arr = np.linspace(0, np.pi, 3)\n",
    "arr"
   ]
  },
  {
   "cell_type": "code",
   "execution_count": 18,
   "id": "90d54df9",
   "metadata": {},
   "outputs": [
    {
     "name": "stdout",
     "output_type": "stream",
     "text": [
      "array: [0.         1.57079633 3.14159265]\n",
      "sin(arr): [0.0000000e+00 1.0000000e+00 1.2246468e-16]\n",
      "cos(arr): [ 1.000000e+00  6.123234e-17 -1.000000e+00]\n",
      "tan(arr): [ 0.00000000e+00  1.63312394e+16 -1.22464680e-16]\n"
     ]
    }
   ],
   "source": [
    "print(f\"array: {arr}\")\n",
    "print(f\"sin(arr): {np.sin(arr)}\")\n",
    "print(f\"cos(arr): {np.cos(arr)}\")\n",
    "print(f\"tan(arr): {np.tan(arr)}\")"
   ]
  },
  {
   "cell_type": "markdown",
   "id": "bb20e90c",
   "metadata": {},
   "source": [
    "Inverse Trigonometric"
   ]
  },
  {
   "cell_type": "code",
   "execution_count": 19,
   "id": "ee42fce4",
   "metadata": {},
   "outputs": [
    {
     "name": "stdout",
     "output_type": "stream",
     "text": [
      "arr: [-1, 0, 1]\n",
      "arcsin(x): [-1.57079633  0.          1.57079633]\n",
      "arccos(x): [3.14159265 1.57079633 0.        ]\n",
      "arctan(x): [-0.78539816  0.          0.78539816]\n"
     ]
    }
   ],
   "source": [
    "arr = [-1, 0, 1]\n",
    "print(f\"arr: {arr}\")\n",
    "print(f\"arcsin(x): {np.arcsin(arr)}\")\n",
    "print(f\"arccos(x): {np.arccos(arr)}\")\n",
    "print(f\"arctan(x): {np.arctan(arr)}\")"
   ]
  },
  {
   "cell_type": "markdown",
   "id": "26f82743",
   "metadata": {},
   "source": [
    "## Exponents & Logarithms\n",
    "指數 & 對數"
   ]
  },
  {
   "cell_type": "code",
   "execution_count": 20,
   "id": "114857f2",
   "metadata": {},
   "outputs": [
    {
     "data": {
      "text/plain": [
       "[1, 2, 3]"
      ]
     },
     "execution_count": 20,
     "metadata": {},
     "output_type": "execute_result"
    }
   ],
   "source": [
    "arr = [1, 2, 3]\n",
    "arr"
   ]
  },
  {
   "cell_type": "code",
   "execution_count": 21,
   "id": "8826ea58",
   "metadata": {},
   "outputs": [
    {
     "name": "stdout",
     "output_type": "stream",
     "text": [
      "e ^ arr: [ 2.71828183  7.3890561  20.08553692]\n",
      "2 ^ arr: [2. 4. 8.]\n",
      "3 ^ arr: [ 4 16 64]\n"
     ]
    }
   ],
   "source": [
    "print(f\"e ^ arr: {np.exp(arr)}\")\n",
    "print(f\"2 ^ arr: {np.exp2(arr)}\")\n",
    "print(f\"3 ^ arr: {np.power(4, arr)}\")"
   ]
  },
  {
   "cell_type": "code",
   "execution_count": 22,
   "id": "a0b88ca4",
   "metadata": {},
   "outputs": [
    {
     "name": "stdout",
     "output_type": "stream",
     "text": [
      "[1, 2, 3, 4, 5]\n",
      "ln(x): [0.         0.69314718 1.09861229 1.38629436 1.60943791]\n",
      "log2(x): [0.         1.         1.5849625  2.         2.32192809]\n",
      "log10(x): [0.         0.30103    0.47712125 0.60205999 0.69897   ]\n"
     ]
    }
   ],
   "source": [
    "arr = [1, 2, 3, 4, 5]\n",
    "print(arr)\n",
    "print(f\"ln(x): {np.log(arr)}\")\n",
    "print(f\"log2(x): {np.log2(arr)}\")\n",
    "print(f\"log10(x): {np.log10(arr)}\")"
   ]
  },
  {
   "cell_type": "markdown",
   "id": "f35ab7b1",
   "metadata": {},
   "source": [
    "數據平滑處理: `expm1(x)` & `log1p(x)`"
   ]
  },
  {
   "cell_type": "code",
   "execution_count": 29,
   "id": "8e4ded25",
   "metadata": {},
   "outputs": [
    {
     "name": "stdout",
     "output_type": "stream",
     "text": [
      "[0.1, 0.01, 0.001, 0.0001]\n",
      "exp(x) - 1: [1.05170918e-01 1.00501671e-02 1.00050017e-03 1.00005000e-04]\n",
      "log(1 + x): [9.53101798e-02 9.95033085e-03 9.99500333e-04 9.99950003e-05]\n"
     ]
    }
   ],
   "source": [
    "arr = [0.1, 0.01, 0.001, 0.0001]\n",
    "print(arr)\n",
    "print(f\"exp(x) - 1: {np.expm1(arr)}\")\n",
    "print(f\"log(1 + x): {np.log1p(arr)}\")"
   ]
  },
  {
   "cell_type": "markdown",
   "id": "242b2d71",
   "metadata": {},
   "source": [
    "LCM & GCD (最小公倍數 & 最大公因數)\n",
    "\n",
    "Reference: https://www.w3schools.com/python/numpy/numpy_ufunc_lcm.asp"
   ]
  },
  {
   "cell_type": "code",
   "execution_count": 23,
   "id": "26a799e7",
   "metadata": {},
   "outputs": [
    {
     "name": "stdout",
     "output_type": "stream",
     "text": [
      "20\n"
     ]
    }
   ],
   "source": [
    "# 找出2數之間的LCM\n",
    "num1 = 4\n",
    "num2 = 5\n",
    "print(np.lcm(num1, num2))"
   ]
  },
  {
   "cell_type": "code",
   "execution_count": 24,
   "id": "135898bc",
   "metadata": {},
   "outputs": [
    {
     "name": "stdout",
     "output_type": "stream",
     "text": [
      "105\n"
     ]
    }
   ],
   "source": [
    "# 找出多個數值間的LCD\n",
    "nums = [3, 5, 7]\n",
    "print(np.lcm.reduce(nums))"
   ]
  },
  {
   "cell_type": "code",
   "execution_count": 25,
   "id": "0d116d2c",
   "metadata": {},
   "outputs": [
    {
     "name": "stdout",
     "output_type": "stream",
     "text": [
      "6\n"
     ]
    }
   ],
   "source": [
    "num1 = 12\n",
    "num2 = 6\n",
    "print(np.gcd(num1, num2))"
   ]
  },
  {
   "cell_type": "code",
   "execution_count": 26,
   "id": "6015c006",
   "metadata": {},
   "outputs": [
    {
     "name": "stdout",
     "output_type": "stream",
     "text": [
      "2\n"
     ]
    }
   ],
   "source": [
    "nums = [12, 4, 6]\n",
    "print(np.gcd.reduce(nums))"
   ]
  },
  {
   "cell_type": "markdown",
   "id": "f0a4b279",
   "metadata": {},
   "source": [
    "Sets(集合) In NumPy"
   ]
  },
  {
   "cell_type": "code",
   "execution_count": 27,
   "id": "6ca9f95c",
   "metadata": {},
   "outputs": [
    {
     "name": "stdout",
     "output_type": "stream",
     "text": [
      "[ 1  2  3  5  7 10]\n"
     ]
    }
   ],
   "source": [
    "arr = np.array(\n",
    "    [1, 10, 2, 3, 5, 5, 1, 7, 3]\n",
    ")\n",
    "# 與Pandas drop_duplicate()一樣可達到相同目的\n",
    "print(np.unique(arr))"
   ]
  },
  {
   "cell_type": "markdown",
   "id": "0ed3f36e",
   "metadata": {},
   "source": [
    "`union1d`: 找出2個array之間唯一的值(僅出現1次)"
   ]
  },
  {
   "cell_type": "code",
   "execution_count": 28,
   "id": "1f8104ce",
   "metadata": {},
   "outputs": [
    {
     "name": "stdout",
     "output_type": "stream",
     "text": [
      "[ 1  2  3  5  7  9 11]\n"
     ]
    }
   ],
   "source": [
    "arr1 = np.array([1, 3, 5, 7, 9])\n",
    "arr2 = np.array([2, 3, 5, 7, 11])\n",
    "\n",
    "print(np.union1d(arr1, arr2))"
   ]
  }
 ],
 "metadata": {
  "kernelspec": {
   "display_name": "da01",
   "language": "python",
   "name": "python3"
  },
  "language_info": {
   "codemirror_mode": {
    "name": "ipython",
    "version": 3
   },
   "file_extension": ".py",
   "mimetype": "text/x-python",
   "name": "python",
   "nbconvert_exporter": "python",
   "pygments_lexer": "ipython3",
   "version": "3.12.6"
  }
 },
 "nbformat": 4,
 "nbformat_minor": 5
}
